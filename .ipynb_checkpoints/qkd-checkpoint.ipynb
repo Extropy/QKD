{
 "cells": [
  {
   "cell_type": "markdown",
   "metadata": {},
   "source": [
    "#!pip install bitstring"
   ]
  },
  {
   "cell_type": "markdown",
   "metadata": {},
   "source": [
    "# QKD simulation"
   ]
  },
  {
   "cell_type": "markdown",
   "metadata": {},
   "source": [
    "## BB84"
   ]
  },
  {
   "cell_type": "markdown",
   "metadata": {},
   "source": [
    "Alice generates a random string of classical bits"
   ]
  },
  {
   "cell_type": "code",
   "execution_count": 2,
   "metadata": {},
   "outputs": [],
   "source": [
    "import random\n",
    "from bitstring import BitArray"
   ]
  },
  {
   "cell_type": "code",
   "execution_count": 3,
   "metadata": {},
   "outputs": [],
   "source": [
    "n = 20\n",
    "A= 2**-0.5 # 1/sqrt(2) for less typing\n",
    "a = [random.randint(0,1) for x in range(n)]"
   ]
  },
  {
   "cell_type": "markdown",
   "metadata": {},
   "source": [
    "Alice encodes data as\n",
    "$\\newcommand{\\ket}[1]{\\left|{#1}\\right\\rangle}$\n",
    "\n",
    "$$b_{i} = 0 \\rightarrow q_{a_{i}}=\\{\\ket{0},\\ket{1}\\}$$\n",
    "\n",
    "$$b_{i} = 1 \\rightarrow q_{a_{i}}=\\{\\ket{+}, \\ket{-} \\}$$\n",
    "\n",
    "where $$\\ket{+} = \\tiny\\frac{1}{\\sqrt{2}}\\normalsize\\left(\\ket{0} + \\ket{1}\\right)$$\n",
    "\n",
    "$$\\ket{-} = \\tiny\\frac{1}{\\sqrt{2}}\\normalsize\\left(\\ket{0} - \\ket{1}\\right)$$"
   ]
  },
  {
   "cell_type": "code",
   "execution_count": 4,
   "metadata": {},
   "outputs": [
    {
     "name": "stdout",
     "output_type": "stream",
     "text": [
      "s0=0.00, s1=0.01, sp=0.01,sm=0.01\n"
     ]
    }
   ],
   "source": [
    "q = list(map(lambda x: ((1,0) if random.randint(0,1) == 0 else (0,1)) if x else ((A,A) if random.randint(0,1) == 0 else (A,-A)), a))\n",
    "print(f's0={sum(x == (1,0) for x in q)/1000:4.2f}, s1={sum(x == (0,1) for x in q)/1000:4.2f}, sp={sum(x == (A,A) for x in q)/1000:4.2f},sm={sum(x == (A,-A) for x in q)/1000:4.2f}')"
   ]
  },
  {
   "cell_type": "markdown",
   "metadata": {},
   "source": [
    "Alice sends the resulting string of qbits to Bob"
   ]
  },
  {
   "cell_type": "markdown",
   "metadata": {},
   "source": [
    "Bob measures the qbits in either $\\{\\ket{0},\\ket{1}\\}$ or $\\{\\ket{+}, \\ket{-} \\}$, chosen at random"
   ]
  },
  {
   "cell_type": "code",
   "execution_count": 5,
   "metadata": {},
   "outputs": [],
   "source": [
    "def measure(x):\n",
    "    b = x[0]\n",
    "    q = x[1]\n",
    "    if b == 0: # measuring in basis (1,0),(0,1)\n",
    "        if q == (1,0) or q == (0,1): # basis matches\n",
    "            return q\n",
    "        else: # basis does not match - 50/50 chance of either state\n",
    "            if random.randint(0,1) == 0: return (1,0) # |0> in X basis\n",
    "            else: return (0,1) # |1> in X basis\n",
    "    else: # measuring in basis (a,a),(a,-a)\n",
    "        if q == (A,A): return (1,0) # |+> in Z basis\n",
    "        elif q == (A,-A): return (0,1) # |-> in Z basis\n",
    "        else: # basis does not match - 50/50 chance of either state\n",
    "            if random.randint(0,1) == 0: return (1,0) # |+> in Z basis\n",
    "            else: return (0,1) # |-> in Z basis\n"
   ]
  },
  {
   "cell_type": "code",
   "execution_count": 6,
   "metadata": {},
   "outputs": [],
   "source": [
    "b = [random.randint(0,1) for x in q]\n",
    "m = [measure(x) for x in list(zip(b,q))]"
   ]
  },
  {
   "cell_type": "markdown",
   "metadata": {},
   "source": [
    "Alice announces her basis vector $(a)$\n",
    "\n",
    "Alice and Bob discard any measurements where $a_{i} \\ne b_{i}$"
   ]
  },
  {
   "cell_type": "code",
   "execution_count": 7,
   "metadata": {},
   "outputs": [],
   "source": [
    "ka = []\n",
    "kb = []\n",
    "for i,xa in enumerate(a):\n",
    "    if a[i] == b[i]:\n",
    "        ka.append(q[i])\n",
    "        kb.append(m[i])"
   ]
  },
  {
   "cell_type": "markdown",
   "metadata": {},
   "source": [
    "At this point, we have:\n",
    "<ul style=\"list-style-type: none;\">\n",
    "    <li>$a$ = Alices' choice of basis $a_{i} = 0 \\rightarrow \\{\\ket{0},\\ket{1}\\},  a_{i} = 1 \\rightarrow \\{\\ket{+}, \\ket{-} \\}$</li>\n",
    "    <li>$b$ = Bob's choice of basis $a_{i} = 0 \\rightarrow \\{\\ket{0},\\ket{1}\\}, b_{i} = 1 \\rightarrow \\{\\ket{+}, \\ket{-} \\}$</li>\n",
    "    <li>$q$ = the qbits Alice sent to Bob, encoded according to $a$</li>\n",
    "    <li>$m$ = Bob's measurements of $q$ according to $b$</li>\n",
    "    <li>$ka$ = Alice's measurements where $a_{i} = b_{i}$</li>\n",
    "    <li>$kb$ = Bob's measurements where $a_{i} = b_{i}$</li>\n",
    "</ul>\n",
    "Alice selects a set of $c$ checkbits, and Alice and Bob publicly compare their measurements\n"
   ]
  },
  {
   "cell_type": "code",
   "execution_count": 12,
   "metadata": {},
   "outputs": [
    {
     "name": "stdout",
     "output_type": "stream",
     "text": [
      "0: (0.7071067811865476, 0.7071067811865476), (1, 0)\n",
      "1: (0.7071067811865476, -0.7071067811865476), (0, 1)\n",
      "7: (0.7071067811865476, 0.7071067811865476), (0, 1)\n",
      "8: (0, 1), (0, 1)\n"
     ]
    }
   ],
   "source": [
    "c = [random.randint(0,len(ka)) for x in range(n//5)]\n",
    "for i in c:\n",
    "    print(f'{i}: {ka[i]}, {kb[i]}')"
   ]
  }
 ],
 "metadata": {
  "kernelspec": {
   "display_name": "Python 3",
   "language": "python",
   "name": "python3"
  },
  "language_info": {
   "codemirror_mode": {
    "name": "ipython",
    "version": 3
   },
   "file_extension": ".py",
   "mimetype": "text/x-python",
   "name": "python",
   "nbconvert_exporter": "python",
   "pygments_lexer": "ipython3",
   "version": "3.8.2"
  }
 },
 "nbformat": 4,
 "nbformat_minor": 4
}
