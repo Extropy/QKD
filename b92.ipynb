{
 "cells": [
  {
   "attachments": {},
   "cell_type": "markdown",
   "metadata": {},
   "source": [
    "# QKD B92"
   ]
  },
  {
   "cell_type": "code",
   "execution_count": 1,
   "metadata": {},
   "outputs": [],
   "source": [
    "import math,random"
   ]
  },
  {
   "attachments": {},
   "cell_type": "markdown",
   "metadata": {},
   "source": [
    "Repeat n times\n",
    "<ul>\n",
    "  Alice encodes and transmits a random bit as a photon as follows:\n",
    "  <ul>\n",
    "  If she wants to transmit a 0, she sends it with 0° polarisation\n",
    "\n",
    "  If she wants to transmit a 1, she sends it with 45° polarisation\n",
    "  </ul>\n",
    "\n",
    "  Eve may or may not try to read the photon using a random selection of -45° and 90° polarisation\n",
    "\n",
    "  Bob tries to receive the photon with a random choice of -45° polarisation or 90° polarisation and informs Alice if he received a photon or not.\n",
    "\n",
    "  If Bob received the photon, he tells Alice and both Bob and Alice add the bit to their keystring.\n",
    "</ul>"
   ]
  },
  {
   "cell_type": "code",
   "execution_count": 2,
   "metadata": {},
   "outputs": [
    {
     "name": "stdout",
     "output_type": "stream",
     "text": [
      "  Alice key length: 251\n",
      "    Bob key length: 251\n"
     ]
    }
   ],
   "source": [
    "# Key parameters\n",
    "NumberOfPhotons = 1000\n",
    "Peavesdrop = 0.005\n",
    "\n",
    "AliceKey = []\n",
    "BobKey = []\n",
    "\n",
    "for i in range(NumberOfPhotons):\n",
    "  \n",
    "  # Alice\n",
    "  KeyBit = random.randint(0,1)\n",
    "  if KeyBit == 0: p = 0\n",
    "  else: p = 45\n",
    "\n",
    "\n",
    "  # Eve\n",
    "  if random.random() < Peavesdrop: # Chance Eve tries to read this photon\n",
    "    # Assume Eve knows what polarisations we are using\n",
    "    # When she tries to read a photon, its polarisation will be set\n",
    "    if random.randint(0,1) == 0: p = -45\n",
    "    else: p = 90\n",
    "\n",
    "\n",
    "  # Bob\n",
    "  if random.randint(0,1) == 0: d = -45\n",
    "  else: d = 90\n",
    "\n",
    "\n",
    "  if d == -45: BobKeyBit = 0 # Only a 0 can be detected when using -45°\n",
    "  else: BobKeyBit = 1        # Only a 1 can be detected when using 90°\n",
    "\n",
    "  # Detecting photons untouched by Eve\n",
    "  if   (p ==   0) and (d == -45): r = random.randint(0,1)\n",
    "  elif (p ==   0) and (d ==  90): r = 0\n",
    "  elif (p ==  45) and (d == -45): r = 0\n",
    "  elif (p ==  45) and (d ==  90): r = random.randint(0,1)\n",
    "\n",
    "  # Detecting photons Eve tried to read\n",
    "  if   (p == -45) and (d == -45): r = 1\n",
    "  elif (p == -45) and (d ==  90): r = random.randint(0,1)\n",
    "  elif (p ==  90) and (d == -45): r = random.randint(0,1)\n",
    "  elif (p ==  90) and (d ==  90): r = 1\n",
    "\n",
    "  # Bob tells Alice he got the photon\n",
    "\n",
    "  # Alice and Bob\n",
    "  if r == 1: # photon was detected, add to both keystrings\n",
    "    AliceKey.append(KeyBit)\n",
    "    BobKey.append(BobKeyBit)\n",
    "\n",
    "print(f'  Alice key length: {len(AliceKey)}')\n",
    "print(f'    Bob key length: {len(BobKey)}')"
   ]
  },
  {
   "attachments": {},
   "cell_type": "markdown",
   "metadata": {},
   "source": [
    "Intrusion detection\n",
    "\n",
    "Alice and Bob compare a random subset of bits in their keys. Any mismatches indicate an eavesdropper."
   ]
  },
  {
   "cell_type": "code",
   "execution_count": 3,
   "metadata": {},
   "outputs": [
    {
     "name": "stdout",
     "output_type": "stream",
     "text": [
      "Shared key[153]: [1, 1, 1, 1, 1, 1, 0, 0, 1, 0, 1, 1, 1, 1, 1, 0, 1, 1, 0, 0, 0, 0, 1, 1, 1, 1, 1, 1, 0, 1, 0, 1, 1, 0, 0, 1, 1, 1, 0, 1, 1, 0, 0, 1, 0, 0, 0, 0, 1, 0, 0, 0, 0, 1, 1, 1, 0, 0, 1, 1, 0, 0, 0, 1, 1, 1, 0, 1, 0, 1, 0, 1, 0, 0, 0, 1, 1, 1, 0, 0, 0, 1, 0, 1, 0, 0, 1, 0, 1, 0, 0, 0, 1, 1, 1, 0, 0, 1, 0, 1, 0, 0, 1, 0, 1, 0, 1, 0, 0, 0, 1, 1, 0, 1, 0, 1, 0, 1, 1, 1, 1, 0, 0, 0, 0, 1, 0, 0, 1, 1, 0, 0, 0, 0, 1, 1, 0, 1, 1, 1, 1, 1, 1, 0, 0, 0, 1, 1, 1, 1, 0, 0, 0]\n"
     ]
    }
   ],
   "source": [
    "# Key parameters\n",
    "FractionOfKeyToVerify = 0.5\n",
    "\n",
    "# Alice\n",
    "KeyCheckIndex = [random.randint(0,len(AliceKey)-1) for x in range(math.floor(len(AliceKey)*FractionOfKeyToVerify))]\n",
    "KeyCheck = []\n",
    "for i in range(len(KeyCheckIndex)): KeyCheck.append(AliceKey[KeyCheckIndex[i]])\n",
    "\n",
    "# Alice transmits KeyCheckIndex and KeyCheck to Bob over public channel\n",
    "\n",
    "# Bob\n",
    "KeyIsValid = True\n",
    "for i in range(len(KeyCheckIndex)):\n",
    "  if KeyCheck[i] != BobKey[KeyCheckIndex[i]]:\n",
    "    KeyIsValid = False\n",
    "    break\n",
    "\n",
    "# Bob tells Alice if everything matched\n",
    "\n",
    "# Alice and Bob\n",
    "if KeyIsValid:\n",
    "  SharedKey = []\n",
    "  for i in range(len(AliceKey)):\n",
    "    if i not in KeyCheckIndex:\n",
    "      SharedKey.append(AliceKey[i])\n",
    "\n",
    "  print(f'Shared key[{len(SharedKey)}]: {SharedKey}')\n",
    "\n",
    "else:\n",
    "  print('Intruder detected, no key was generated')"
   ]
  },
  {
   "cell_type": "code",
   "execution_count": null,
   "metadata": {},
   "outputs": [],
   "source": []
  },
  {
   "cell_type": "code",
   "execution_count": null,
   "metadata": {},
   "outputs": [],
   "source": []
  }
 ],
 "metadata": {
  "kernelspec": {
   "display_name": "Python 3",
   "language": "python",
   "name": "python3"
  },
  "language_info": {
   "codemirror_mode": {
    "name": "ipython",
    "version": 3
   },
   "file_extension": ".py",
   "mimetype": "text/x-python",
   "name": "python",
   "nbconvert_exporter": "python",
   "pygments_lexer": "ipython3",
   "version": "3.10.6"
  },
  "orig_nbformat": 4,
  "vscode": {
   "interpreter": {
    "hash": "e7370f93d1d0cde622a1f8e1c04877d8463912d04d973331ad4851f04de6915a"
   }
  }
 },
 "nbformat": 4,
 "nbformat_minor": 2
}
