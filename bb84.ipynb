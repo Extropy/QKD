{
 "cells": [
  {
   "attachments": {},
   "cell_type": "markdown",
   "metadata": {},
   "source": [
    "# QKD BB84\n",
    "## Summary\n",
    "\n",
    "```\n",
    "for i = 1..n {\n",
    "  // Alice\n",
    "  with a new random bit b {\n",
    "    with a random polarisation p selected from R or D {\n",
    "\n",
    "             0°                     R = + (rectilinear)\n",
    "             |                      D = X (diagonal)\n",
    "             |\n",
    "      --------------- 90°\n",
    "             |\n",
    "             |\n",
    "\n",
    "      if (p == R)\n",
    "        if (b == 0) Alice -----Photon at 0° -----> Bob\n",
    "        if (b == 1) Alice -----Photon in 90° -----> Bob\n",
    "      if (p == D)\n",
    "        if (b == 0) Alice -----Photon at 45° -----> Bob\n",
    "        if (b == 1) Alice -----Photon at 135° -----> Bob\n",
    "    }\n",
    "    Record b,p\n",
    "\n",
    "    // Eve\n",
    "    Possibly try to read the photon\n",
    "\n",
    "    // Bob\n",
    "    with a random polarisation p selected from R or D {\n",
    "      measure photon p as r\n",
    "      record p,r\n",
    "    }\n",
    "  }\n",
    "}\n",
    "\n",
    "Bob -----polarisation used for each bit (public)-----> Alice\n",
    "Alice -----Which polarisations were correct-----> Bob\n",
    "\n",
    "// Alice and Bob\n",
    "Remove the bits that were read with the wrong polarisation\n",
    "\n",
    "Alice -----Selected keystring bits (public)-----> Bob\n",
    "Bob -----match/mismatch (public)-----> Alice\n",
    "\n",
    "if match, both Alice and Bob remove the test key bits from their keystring, resulting in a shared key.\n",
    "\n",
    "```"
   ]
  },
  {
   "cell_type": "code",
   "execution_count": 1,
   "metadata": {},
   "outputs": [],
   "source": [
    "import math, random"
   ]
  },
  {
   "cell_type": "code",
   "execution_count": null,
   "metadata": {},
   "outputs": [],
   "source": [
    "NumberOfPhotons = 1000\n",
    "Peavesdrop = 0.005\n",
    "\n",
    "AliceBases = []\n",
    "AliceKey = []\n",
    "BobBases = []\n",
    "BobKey = []\n",
    "\n",
    "for i in range(NumberOfPhotons):\n",
    "  # Alice\n",
    "  AliceKey.append(random.randint(0,1))\n",
    "  AliceBases.append(random.randint(0,1))\n",
    "  if   AliceBases[-1] == 0 and AliceKey[-1] == 0: p = 0\n",
    "  elif AliceBases[-1] == 0 and AliceKey[-1] == 1: p = 90\n",
    "  elif AliceBases[-1] == 1 and AliceKey[-1] == 0: p = 45\n",
    "  elif AliceBases[-1] == 1 and AliceKey[-1] == 1: p = 135\n",
    "\n",
    "  # Eve\n",
    "  if random.random() < Peavesdrop: # Chance Eve tries to read this photon\n",
    "    # Assume Eve knows what polarisations we are using\n",
    "    # When she tries to read a photon, its polarisation will be set\n",
    "    #if random.randint(0,1) == 0: p = -45\n",
    "    #else: p = 90\n",
    "    pass\n",
    "\n",
    "  \n"
   ]
  }
 ],
 "metadata": {
  "kernelspec": {
   "display_name": "Python 3",
   "language": "python",
   "name": "python3"
  },
  "language_info": {
   "codemirror_mode": {
    "name": "ipython",
    "version": 3
   },
   "file_extension": ".py",
   "mimetype": "text/x-python",
   "name": "python",
   "nbconvert_exporter": "python",
   "pygments_lexer": "ipython3",
   "version": "3.10.6"
  },
  "orig_nbformat": 4,
  "vscode": {
   "interpreter": {
    "hash": "e7370f93d1d0cde622a1f8e1c04877d8463912d04d973331ad4851f04de6915a"
   }
  }
 },
 "nbformat": 4,
 "nbformat_minor": 2
}
