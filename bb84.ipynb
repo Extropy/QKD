{
 "cells": [
  {
   "attachments": {},
   "cell_type": "markdown",
   "metadata": {},
   "source": [
    "# QKD BB84\n",
    "## Summary\n",
    "\n",
    "```\n",
    "for i = 1..n {\n",
    "  // Alice\n",
    "  with a new random bit b {\n",
    "    with a random polarisation p selected from R or D {\n",
    "\n",
    "             0°                     R = + (rectilinear)\n",
    "             |                      D = X (diagonal)\n",
    "             |\n",
    "      --------------- 90°\n",
    "             |\n",
    "             |\n",
    "\n",
    "      if (p == R)\n",
    "        if (b == 0) Alice -----Photon at 0° -----> Bob\n",
    "        if (b == 1) Alice -----Photon in 90° -----> Bob\n",
    "      if (p == D)\n",
    "        if (b == 0) Alice -----Photon at 45° -----> Bob\n",
    "        if (b == 1) Alice -----Photon at 135° -----> Bob\n",
    "    }\n",
    "    Record b,p\n",
    "\n",
    "    // Eve\n",
    "    Possibly try to read the photon\n",
    "\n",
    "    // Bob\n",
    "    with a random polarisation p selected from R or D {\n",
    "      measure photon p as r\n",
    "      record p,r\n",
    "    }\n",
    "  }\n",
    "}\n",
    "\n",
    "Bob -----polarisation used for each bit (public)-----> Alice\n",
    "Alice -----Which polarisations were correct-----> Bob\n",
    "\n",
    "// Alice and Bob\n",
    "Remove the bits that were read with the wrong polarisation\n",
    "\n",
    "Alice -----Selected keystring bits (public)-----> Bob\n",
    "Bob -----match/mismatch (public)-----> Alice\n",
    "\n",
    "if match, both Alice and Bob remove the test key bits from their keystring, resulting in a shared key.\n",
    "\n",
    "```"
   ]
  },
  {
   "cell_type": "code",
   "execution_count": 1,
   "metadata": {},
   "outputs": [],
   "source": [
    "import math, random"
   ]
  },
  {
   "cell_type": "code",
   "execution_count": 49,
   "metadata": {},
   "outputs": [
    {
     "name": "stdout",
     "output_type": "stream",
     "text": [
      "Intruder detected\n"
     ]
    }
   ],
   "source": [
    "NumberOfPhotons = 10000\n",
    "Peavesdrop = 0.0001\n",
    "\n",
    "AliceBase = []\n",
    "AliceKey = []\n",
    "BobBase = []\n",
    "BobKey = []\n",
    "SharedKey = []\n",
    "\n",
    "for i in range(NumberOfPhotons):\n",
    "  # Alice\n",
    "  AliceKey.append(random.randint(0,1))\n",
    "  AliceBase.append(random.randint(0,1))\n",
    "  if   AliceBase[-1] == 0 and AliceKey[-1] == 0: p = 0\n",
    "  elif AliceBase[-1] == 0 and AliceKey[-1] == 1: p = 90\n",
    "  elif AliceBase[-1] == 1 and AliceKey[-1] == 0: p = 45\n",
    "  elif AliceBase[-1] == 1 and AliceKey[-1] == 1: p = 135\n",
    "\n",
    "  #print(f'Alice sends a {AliceKey[-1]} in basis {AliceBase[-1]} with {p} polarisation')\n",
    "\n",
    "  # Eve\n",
    "  if random.random() < Peavesdrop: # Chance Eve tries to read this photon\n",
    "    p = random.randint(0,1)\n",
    "    if p == 1: p = 45\n",
    "\n",
    "  # Bob\n",
    "  BobBase.append(random.randint(0,1)) # 0 is 0° (rectilinear), 1 is 45° (diagonal)\n",
    "\n",
    "  if   BobBase[-1] == 0 and p ==   0: BobKey.append(0)\n",
    "  elif BobBase[-1] == 0 and p ==  45: BobKey.append(random.randint(0,1))\n",
    "  elif BobBase[-1] == 0 and p ==  90: BobKey.append(1)\n",
    "  elif BobBase[-1] == 0 and p == 135: BobKey.append(random.randint(0,1))\n",
    "  elif BobBase[-1] == 1 and p ==   0: BobKey.append(random.randint(0,1))\n",
    "  elif BobBase[-1] == 1 and p ==  45: BobKey.append(0)\n",
    "  elif BobBase[-1] == 1 and p ==  90: BobKey.append(random.randint(0,1))\n",
    "  elif BobBase[-1] == 1 and p == 135: BobKey.append(1)\n",
    "\n",
    "  #print(f'Bob reads a   {BobKey[-1]} in basis {BobBase[-1]}')\n",
    "\n",
    "# Bob sends Alice his BobBase array\n",
    "# Alice responds with a list of entries where the wrong basis was used\n",
    "\n",
    "# Alice and Bob\n",
    "\n",
    "KeyIsValid = True\n",
    "for i in range(NumberOfPhotons):\n",
    "  if AliceBase[i] == BobBase[i]:\n",
    "    if AliceKey[i] == BobKey[i]:\n",
    "      SharedKey.append(AliceKey[i])\n",
    "    else:\n",
    "      KeyIsValid = False\n",
    "      break\n",
    "if KeyIsValid:\n",
    "  print(f'Shared key length is {len(SharedKey)}')\n",
    "else:\n",
    "  print('Intruder detected')\n",
    "  "
   ]
  },
  {
   "cell_type": "code",
   "execution_count": null,
   "metadata": {},
   "outputs": [],
   "source": []
  }
 ],
 "metadata": {
  "kernelspec": {
   "display_name": "Python 3",
   "language": "python",
   "name": "python3"
  },
  "language_info": {
   "codemirror_mode": {
    "name": "ipython",
    "version": 3
   },
   "file_extension": ".py",
   "mimetype": "text/x-python",
   "name": "python",
   "nbconvert_exporter": "python",
   "pygments_lexer": "ipython3",
   "version": "3.10.6"
  },
  "orig_nbformat": 4,
  "vscode": {
   "interpreter": {
    "hash": "e7370f93d1d0cde622a1f8e1c04877d8463912d04d973331ad4851f04de6915a"
   }
  }
 },
 "nbformat": 4,
 "nbformat_minor": 2
}
